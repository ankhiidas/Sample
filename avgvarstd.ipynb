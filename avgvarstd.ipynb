{
 "cells": [
  {
   "cell_type": "code",
   "execution_count": 7,
   "id": "41be6203",
   "metadata": {},
   "outputs": [
    {
     "name": "stdout",
     "output_type": "stream",
     "text": [
      "105.57142857142857\n",
      "29579.10204081633\n",
      "171.98576115718512\n"
     ]
    }
   ],
   "source": [
    "#Average, Variance, Standard deviation\n",
    "\n",
    "import numpy as np\n",
    "\n",
    "list = [2, 40, 2, 502, 177, 7, 9]\n",
    "\n",
    "print(np.average(list))    # Average\n",
    "print(np.var(list))   # Variance\n",
    "print(np.std(list))   # Standard deviation"
   ]
  },
  {
   "cell_type": "code",
   "execution_count": null,
   "id": "82a637a7",
   "metadata": {},
   "outputs": [],
   "source": []
  }
 ],
 "metadata": {
  "kernelspec": {
   "display_name": "Python 3 (ipykernel)",
   "language": "python",
   "name": "python3"
  },
  "language_info": {
   "codemirror_mode": {
    "name": "ipython",
    "version": 3
   },
   "file_extension": ".py",
   "mimetype": "text/x-python",
   "name": "python",
   "nbconvert_exporter": "python",
   "pygments_lexer": "ipython3",
   "version": "3.11.5"
  }
 },
 "nbformat": 4,
 "nbformat_minor": 5
}
